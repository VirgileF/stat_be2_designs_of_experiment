{
 "cells": [
  {
   "cell_type": "markdown",
   "metadata": {},
   "source": [
    "# Statistiques appliquées aux sciences de l'ingénieur: TD 2 - Exercice 3\n",
    "#### ... ... & FOY Virgile"
   ]
  },
  {
   "cell_type": "markdown",
   "metadata": {},
   "source": [
    "## Exercice 3"
   ]
  },
  {
   "cell_type": "markdown",
   "metadata": {},
   "source": [
    "### Question 1"
   ]
  },
  {
   "cell_type": "code",
   "execution_count": 1,
   "metadata": {},
   "outputs": [
    {
     "data": {
      "text/plain": [
       " Treatment Sex         Age           Duration          Pain       \n",
       " A:20      F:30   Min.   :59.00   Min.   : 1.00   Min.   :0.0000  \n",
       " B:20      M:30   1st Qu.:66.75   1st Qu.: 8.50   1st Qu.:0.0000  \n",
       " P:20             Median :69.00   Median :16.00   Median :0.0000  \n",
       "                  Mean   :70.05   Mean   :16.73   Mean   :0.4167  \n",
       "                  3rd Qu.:74.00   3rd Qu.:26.00   3rd Qu.:1.0000  \n",
       "                  Max.   :83.00   Max.   :50.00   Max.   :1.0000  "
      ]
     },
     "metadata": {},
     "output_type": "display_data"
    }
   ],
   "source": [
    "neuralgia = read.table(\"neuralgia.txt\", header=TRUE, na.strings=c(\"\"))\n",
    "summary(neuralgia)"
   ]
  },
  {
   "cell_type": "code",
   "execution_count": 2,
   "metadata": {},
   "outputs": [
    {
     "data": {
      "text/html": [
       "60"
      ],
      "text/latex": [
       "60"
      ],
      "text/markdown": [
       "60"
      ],
      "text/plain": [
       "[1] 60"
      ]
     },
     "metadata": {},
     "output_type": "display_data"
    },
    {
     "data": {
      "text/html": [
       "<table>\n",
       "<caption>A data.frame: 10 × 5</caption>\n",
       "<thead>\n",
       "\t<tr><th></th><th scope=col>Treatment</th><th scope=col>Sex</th><th scope=col>Age</th><th scope=col>Duration</th><th scope=col>Pain</th></tr>\n",
       "\t<tr><th></th><th scope=col>&lt;fct&gt;</th><th scope=col>&lt;fct&gt;</th><th scope=col>&lt;int&gt;</th><th scope=col>&lt;int&gt;</th><th scope=col>&lt;int&gt;</th></tr>\n",
       "</thead>\n",
       "<tbody>\n",
       "\t<tr><th scope=row>1</th><td>P</td><td>F</td><td>68</td><td> 1</td><td>0</td></tr>\n",
       "\t<tr><th scope=row>2</th><td>B</td><td>M</td><td>74</td><td>16</td><td>0</td></tr>\n",
       "\t<tr><th scope=row>3</th><td>P</td><td>F</td><td>67</td><td>30</td><td>0</td></tr>\n",
       "\t<tr><th scope=row>4</th><td>P</td><td>M</td><td>66</td><td>26</td><td>1</td></tr>\n",
       "\t<tr><th scope=row>5</th><td>B</td><td>F</td><td>67</td><td>28</td><td>0</td></tr>\n",
       "\t<tr><th scope=row>6</th><td>B</td><td>F</td><td>77</td><td>16</td><td>0</td></tr>\n",
       "\t<tr><th scope=row>7</th><td>A</td><td>F</td><td>71</td><td>12</td><td>0</td></tr>\n",
       "\t<tr><th scope=row>8</th><td>B</td><td>F</td><td>72</td><td>50</td><td>0</td></tr>\n",
       "\t<tr><th scope=row>9</th><td>B</td><td>F</td><td>76</td><td> 9</td><td>1</td></tr>\n",
       "\t<tr><th scope=row>10</th><td>A</td><td>M</td><td>71</td><td>17</td><td>1</td></tr>\n",
       "</tbody>\n",
       "</table>\n"
      ],
      "text/latex": [
       "A data.frame: 10 × 5\n",
       "\\begin{tabular}{r|lllll}\n",
       "  & Treatment & Sex & Age & Duration & Pain\\\\\n",
       "  & <fct> & <fct> & <int> & <int> & <int>\\\\\n",
       "\\hline\n",
       "\t1 & P & F & 68 &  1 & 0\\\\\n",
       "\t2 & B & M & 74 & 16 & 0\\\\\n",
       "\t3 & P & F & 67 & 30 & 0\\\\\n",
       "\t4 & P & M & 66 & 26 & 1\\\\\n",
       "\t5 & B & F & 67 & 28 & 0\\\\\n",
       "\t6 & B & F & 77 & 16 & 0\\\\\n",
       "\t7 & A & F & 71 & 12 & 0\\\\\n",
       "\t8 & B & F & 72 & 50 & 0\\\\\n",
       "\t9 & B & F & 76 &  9 & 1\\\\\n",
       "\t10 & A & M & 71 & 17 & 1\\\\\n",
       "\\end{tabular}\n"
      ],
      "text/markdown": [
       "\n",
       "A data.frame: 10 × 5\n",
       "\n",
       "| <!--/--> | Treatment &lt;fct&gt; | Sex &lt;fct&gt; | Age &lt;int&gt; | Duration &lt;int&gt; | Pain &lt;int&gt; |\n",
       "|---|---|---|---|---|---|\n",
       "| 1 | P | F | 68 |  1 | 0 |\n",
       "| 2 | B | M | 74 | 16 | 0 |\n",
       "| 3 | P | F | 67 | 30 | 0 |\n",
       "| 4 | P | M | 66 | 26 | 1 |\n",
       "| 5 | B | F | 67 | 28 | 0 |\n",
       "| 6 | B | F | 77 | 16 | 0 |\n",
       "| 7 | A | F | 71 | 12 | 0 |\n",
       "| 8 | B | F | 72 | 50 | 0 |\n",
       "| 9 | B | F | 76 |  9 | 1 |\n",
       "| 10 | A | M | 71 | 17 | 1 |\n",
       "\n"
      ],
      "text/plain": [
       "   Treatment Sex Age Duration Pain\n",
       "1  P         F   68   1       0   \n",
       "2  B         M   74  16       0   \n",
       "3  P         F   67  30       0   \n",
       "4  P         M   66  26       1   \n",
       "5  B         F   67  28       0   \n",
       "6  B         F   77  16       0   \n",
       "7  A         F   71  12       0   \n",
       "8  B         F   72  50       0   \n",
       "9  B         F   76   9       1   \n",
       "10 A         M   71  17       1   "
      ]
     },
     "metadata": {},
     "output_type": "display_data"
    },
    {
     "data": {
      "text/html": [
       "<dl class=dl-horizontal>\n",
       "\t<dt>Treatment</dt>\n",
       "\t\t<dd>0</dd>\n",
       "\t<dt>Sex</dt>\n",
       "\t\t<dd>0</dd>\n",
       "\t<dt>Age</dt>\n",
       "\t\t<dd>0</dd>\n",
       "\t<dt>Duration</dt>\n",
       "\t\t<dd>0</dd>\n",
       "\t<dt>Pain</dt>\n",
       "\t\t<dd>0</dd>\n",
       "</dl>\n"
      ],
      "text/latex": [
       "\\begin{description*}\n",
       "\\item[Treatment] 0\n",
       "\\item[Sex] 0\n",
       "\\item[Age] 0\n",
       "\\item[Duration] 0\n",
       "\\item[Pain] 0\n",
       "\\end{description*}\n"
      ],
      "text/markdown": [
       "Treatment\n",
       ":   0Sex\n",
       ":   0Age\n",
       ":   0Duration\n",
       ":   0Pain\n",
       ":   0\n",
       "\n"
      ],
      "text/plain": [
       "Treatment       Sex       Age  Duration      Pain \n",
       "        0         0         0         0         0 "
      ]
     },
     "metadata": {},
     "output_type": "display_data"
    }
   ],
   "source": [
    "nrow(neuralgia)\n",
    "neuralgia[1:10,]\n",
    "sapply(neuralgia, function(x) sum(is.na(x)))"
   ]
  },
  {
   "cell_type": "markdown",
   "metadata": {},
   "source": [
    "- Treatment : Le type de traîtement (variable explicative)\n",
    "- Sex : Le sexe du patient (variable explicative)\n",
    "- Age : L'âge du patient (variable explicative)\n",
    "- Duration : Durée du traîtement (variable explicative)\n",
    "- Pain : Si oui ou non le patient ressent de la douleur (variable expliquée)"
   ]
  },
  {
   "cell_type": "markdown",
   "metadata": {},
   "source": [
    "### Question 2"
   ]
  },
  {
   "cell_type": "code",
   "execution_count": 7,
   "metadata": {},
   "outputs": [],
   "source": [
    "u = sample(1:60, .8*nrow(neuralgia))\n",
    "df_train = neuralgia[u,]\n",
    "df_test = neuralgia[-u,]"
   ]
  },
  {
   "cell_type": "code",
   "execution_count": 4,
   "metadata": {},
   "outputs": [
    {
     "data": {
      "text/html": [
       "48"
      ],
      "text/latex": [
       "48"
      ],
      "text/markdown": [
       "48"
      ],
      "text/plain": [
       "[1] 48"
      ]
     },
     "metadata": {},
     "output_type": "display_data"
    },
    {
     "data": {
      "text/html": [
       "12"
      ],
      "text/latex": [
       "12"
      ],
      "text/markdown": [
       "12"
      ],
      "text/plain": [
       "[1] 12"
      ]
     },
     "metadata": {},
     "output_type": "display_data"
    }
   ],
   "source": [
    "nrow(df_train)\n",
    "nrow(df_test)"
   ]
  },
  {
   "cell_type": "markdown",
   "metadata": {},
   "source": [
    "### Question 3"
   ]
  },
  {
   "cell_type": "code",
   "execution_count": 5,
   "metadata": {},
   "outputs": [
    {
     "data": {
      "text/plain": [
       "\n",
       "Call:\n",
       "glm(formula = Pain ~ ., data = df_train)\n",
       "\n",
       "Deviance Residuals: \n",
       "     Min        1Q    Median        3Q       Max  \n",
       "-0.93887  -0.28174  -0.02515   0.28742   0.82627  \n",
       "\n",
       "Coefficients:\n",
       "             Estimate Std. Error t value Pr(>|t|)   \n",
       "(Intercept) -2.372110   0.795204  -2.983  0.00474 **\n",
       "TreatmentB  -0.133967   0.140157  -0.956  0.34463   \n",
       "TreatmentP   0.379330   0.147200   2.577  0.01357 * \n",
       "SexM         0.242607   0.116946   2.075  0.04420 * \n",
       "Age          0.036193   0.011109   3.258  0.00222 **\n",
       "Duration     0.002697   0.005498   0.491  0.62632   \n",
       "---\n",
       "Signif. codes:  0 ‘***’ 0.001 ‘**’ 0.01 ‘*’ 0.05 ‘.’ 0.1 ‘ ’ 1\n",
       "\n",
       "(Dispersion parameter for gaussian family taken to be 0.1590604)\n",
       "\n",
       "    Null deviance: 11.4792  on 47  degrees of freedom\n",
       "Residual deviance:  6.6805  on 42  degrees of freedom\n",
       "AIC: 55.562\n",
       "\n",
       "Number of Fisher Scoring iterations: 2\n"
      ]
     },
     "metadata": {},
     "output_type": "display_data"
    }
   ],
   "source": [
    "glm1 = glm(Pain ~ ., data=df_train)\n",
    "summary(glm1)"
   ]
  },
  {
   "cell_type": "code",
   "execution_count": 8,
   "metadata": {},
   "outputs": [
    {
     "data": {
      "text/plain": [
       "\n",
       "Call:\n",
       "glm(formula = Pain ~ ., family = binomial(link = \"logit\"), data = df_train)\n",
       "\n",
       "Deviance Residuals: \n",
       "    Min       1Q   Median       3Q      Max  \n",
       "-2.5507  -0.5796  -0.2064   0.5962   2.3911  \n",
       "\n",
       "Coefficients:\n",
       "              Estimate Std. Error z value Pr(>|z|)   \n",
       "(Intercept) -18.713101   8.559731  -2.186  0.02880 * \n",
       "TreatmentB   -0.775341   1.183015  -0.655  0.51221   \n",
       "TreatmentP    2.942778   1.089021   2.702  0.00689 **\n",
       "SexM          2.003828   0.938574   2.135  0.03276 * \n",
       "Age           0.229155   0.116741   1.963  0.04965 * \n",
       "Duration      0.005651   0.040132   0.141  0.88803   \n",
       "---\n",
       "Signif. codes:  0 ‘***’ 0.001 ‘**’ 0.01 ‘*’ 0.05 ‘.’ 0.1 ‘ ’ 1\n",
       "\n",
       "(Dispersion parameter for binomial family taken to be 1)\n",
       "\n",
       "    Null deviance: 62.399  on 47  degrees of freedom\n",
       "Residual deviance: 38.823  on 42  degrees of freedom\n",
       "AIC: 50.823\n",
       "\n",
       "Number of Fisher Scoring iterations: 6\n"
      ]
     },
     "metadata": {},
     "output_type": "display_data"
    }
   ],
   "source": [
    "# df_train$Treatment = as.factor(df_train$Treatment)\n",
    "# df_train$Sex = as.factor(df_train$Sex)\n",
    "\n",
    "glm2 <- glm(Pain~., family=binomial(link=\"logit\"), data=df_train)\n",
    "summary(glm2)"
   ]
  },
  {
   "cell_type": "code",
   "execution_count": 9,
   "metadata": {},
   "outputs": [
    {
     "data": {
      "text/html": [
       "<table>\n",
       "<caption>A anova: 5 × 5</caption>\n",
       "<thead>\n",
       "\t<tr><th></th><th scope=col>Df</th><th scope=col>Deviance</th><th scope=col>Resid. Df</th><th scope=col>Resid. Dev</th><th scope=col>Pr(&gt;Chi)</th></tr>\n",
       "\t<tr><th></th><th scope=col>&lt;int&gt;</th><th scope=col>&lt;dbl&gt;</th><th scope=col>&lt;int&gt;</th><th scope=col>&lt;dbl&gt;</th><th scope=col>&lt;dbl&gt;</th></tr>\n",
       "</thead>\n",
       "<tbody>\n",
       "\t<tr><th scope=row>NULL</th><td>NA</td><td>         NA</td><td>47</td><td>62.39884</td><td>         NA</td></tr>\n",
       "\t<tr><th scope=row>Treatment</th><td> 2</td><td>11.63910851</td><td>45</td><td>50.75973</td><td>0.002968928</td></tr>\n",
       "\t<tr><th scope=row>Sex</th><td> 1</td><td> 6.28472279</td><td>44</td><td>44.47501</td><td>0.012178313</td></tr>\n",
       "\t<tr><th scope=row>Age</th><td> 1</td><td> 5.63257706</td><td>43</td><td>38.84243</td><td>0.017629695</td></tr>\n",
       "\t<tr><th scope=row>Duration</th><td> 1</td><td> 0.01981952</td><td>42</td><td>38.82261</td><td>0.888042309</td></tr>\n",
       "</tbody>\n",
       "</table>\n"
      ],
      "text/latex": [
       "A anova: 5 × 5\n",
       "\\begin{tabular}{r|lllll}\n",
       "  & Df & Deviance & Resid. Df & Resid. Dev & Pr(>Chi)\\\\\n",
       "  & <int> & <dbl> & <int> & <dbl> & <dbl>\\\\\n",
       "\\hline\n",
       "\tNULL & NA &          NA & 47 & 62.39884 &          NA\\\\\n",
       "\tTreatment &  2 & 11.63910851 & 45 & 50.75973 & 0.002968928\\\\\n",
       "\tSex &  1 &  6.28472279 & 44 & 44.47501 & 0.012178313\\\\\n",
       "\tAge &  1 &  5.63257706 & 43 & 38.84243 & 0.017629695\\\\\n",
       "\tDuration &  1 &  0.01981952 & 42 & 38.82261 & 0.888042309\\\\\n",
       "\\end{tabular}\n"
      ],
      "text/markdown": [
       "\n",
       "A anova: 5 × 5\n",
       "\n",
       "| <!--/--> | Df &lt;int&gt; | Deviance &lt;dbl&gt; | Resid. Df &lt;int&gt; | Resid. Dev &lt;dbl&gt; | Pr(&gt;Chi) &lt;dbl&gt; |\n",
       "|---|---|---|---|---|---|\n",
       "| NULL | NA |          NA | 47 | 62.39884 |          NA |\n",
       "| Treatment |  2 | 11.63910851 | 45 | 50.75973 | 0.002968928 |\n",
       "| Sex |  1 |  6.28472279 | 44 | 44.47501 | 0.012178313 |\n",
       "| Age |  1 |  5.63257706 | 43 | 38.84243 | 0.017629695 |\n",
       "| Duration |  1 |  0.01981952 | 42 | 38.82261 | 0.888042309 |\n",
       "\n"
      ],
      "text/plain": [
       "          Df Deviance    Resid. Df Resid. Dev Pr(>Chi)   \n",
       "NULL      NA          NA 47        62.39884            NA\n",
       "Treatment  2 11.63910851 45        50.75973   0.002968928\n",
       "Sex        1  6.28472279 44        44.47501   0.012178313\n",
       "Age        1  5.63257706 43        38.84243   0.017629695\n",
       "Duration   1  0.01981952 42        38.82261   0.888042309"
      ]
     },
     "metadata": {},
     "output_type": "display_data"
    }
   ],
   "source": [
    "anova(glm2, test=\"Chisq\")"
   ]
  },
  {
   "cell_type": "markdown",
   "metadata": {},
   "source": [
    "L'évènement modélisé est la douleur du patient : s'il en ressent, la variable *Pain* prend la valeur 1, et 0 sinon. On écrit $ln(\\frac{p}{1-p}) = \\beta_0 + \\beta_1x_1 + \\dots + \\beta_kx_k$ où $p$ est la probabilité de ressentir de la douleur, $x_1, \\dots, x_k$ sont les variables d'entrée et $\\beta_0, \\dots, \\beta_k$ les coefficients associés ($\\beta_0$ joue le rôle d'ordonnée à l'origine, liée à la notion d'*odds-ratio*). On cherche les estimateurs des coefficients $\\beta_k$ qui maximisent la log-vraisemblance du modèle. Cela revient à trouver les paramètres du modèle qui maximisent la probabilité d'observer les valeurs du jeu d'entraînement sachant que le modèle est régis par ces paramètres. "
   ]
  },
  {
   "cell_type": "code",
   "execution_count": null,
   "metadata": {},
   "outputs": [],
   "source": [
    "anova1 <- Anova(glm2, type=(\"III\"), test.statistic=\"LR\")\n",
    "summary(annova1)"
   ]
  },
  {
   "cell_type": "code",
   "execution_count": null,
   "metadata": {},
   "outputs": [],
   "source": [
    "anova2 <- Anova(glm2, type=(\"III\"), test.statistic=\"Wald\")\n",
    "summary(annova2)"
   ]
  },
  {
   "cell_type": "markdown",
   "metadata": {},
   "source": [
    "### Question 5"
   ]
  },
  {
   "cell_type": "code",
   "execution_count": null,
   "metadata": {},
   "outputs": [],
   "source": [
    "constant = glm1(pain~1,family=binomial,data=neuralgia)\n",
    "forward <- step(constant, direction=\"forward\", scope=list(lower=~1,\n",
    "+ upper=~(Treatment+Sex+Age+Duration)*(Treatment+Sex+Age+Duration)),\n",
    "+ trace = TRUE)\n",
    "forward$anova\n",
    "Anova(forward,test.statistic=\"LR\",type = 'III')"
   ]
  },
  {
   "cell_type": "code",
   "execution_count": null,
   "metadata": {},
   "outputs": [],
   "source": []
  }
 ],
 "metadata": {
  "kernelspec": {
   "display_name": "R",
   "language": "R",
   "name": "ir"
  },
  "language_info": {
   "codemirror_mode": "r",
   "file_extension": ".r",
   "mimetype": "text/x-r-source",
   "name": "R",
   "pygments_lexer": "r",
   "version": "3.6.1"
  }
 },
 "nbformat": 4,
 "nbformat_minor": 2
}
