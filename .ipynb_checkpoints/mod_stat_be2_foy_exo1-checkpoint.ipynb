{
 "cells": [
  {
   "cell_type": "markdown",
   "metadata": {},
   "source": [
    "# Statistiques appliquées aux sciences de l'ingénieur: TD 2\n",
    "#### ... ... & FOY Virgile"
   ]
  },
  {
   "cell_type": "markdown",
   "metadata": {},
   "source": [
    "## Exercice 1"
   ]
  },
  {
   "cell_type": "markdown",
   "metadata": {},
   "source": [
    "### Question 1"
   ]
  },
  {
   "cell_type": "code",
   "execution_count": 19,
   "metadata": {},
   "outputs": [
    {
     "data": {
      "text/plain": [
       "     Ltemp        Ltime        Lpress       Ctemp        Ctime        Catmos  \n",
       " Min.   :-1   Min.   :-1   Min.   :-1   Min.   :-1   Min.   :-1   Min.   :-1  \n",
       " 1st Qu.:-1   1st Qu.:-1   1st Qu.:-1   1st Qu.:-1   1st Qu.:-1   1st Qu.:-1  \n",
       " Median : 0   Median : 0   Median : 0   Median : 0   Median : 0   Median : 0  \n",
       " Mean   : 0   Mean   : 0   Mean   : 0   Mean   : 0   Mean   : 0   Mean   : 0  \n",
       " 3rd Qu.: 1   3rd Qu.: 1   3rd Qu.: 1   3rd Qu.: 1   3rd Qu.: 1   3rd Qu.: 1  \n",
       " Max.   : 1   Max.   : 1   Max.   : 1   Max.   : 1   Max.   : 1   Max.   : 1  \n",
       "     Camber     \n",
       " Min.   : 20.0  \n",
       " 1st Qu.: 47.0  \n",
       " Median : 91.0  \n",
       " Mean   :107.0  \n",
       " 3rd Qu.:150.5  \n",
       " Max.   :296.0  "
      ]
     },
     "metadata": {},
     "output_type": "display_data"
    }
   ],
   "source": [
    "silicium = read.table(\"silicium.txt\", header=TRUE)\n",
    "summary(silicium)"
   ]
  },
  {
   "cell_type": "code",
   "execution_count": 31,
   "metadata": {},
   "outputs": [
    {
     "data": {
      "text/html": [
       "<table>\n",
       "<caption>A data.frame: 64 × 7</caption>\n",
       "<thead>\n",
       "\t<tr><th scope=col>Ltemp</th><th scope=col>Ltime</th><th scope=col>Lpress</th><th scope=col>Ctemp</th><th scope=col>Ctime</th><th scope=col>Catmos</th><th scope=col>Camber</th></tr>\n",
       "\t<tr><th scope=col>&lt;int&gt;</th><th scope=col>&lt;int&gt;</th><th scope=col>&lt;int&gt;</th><th scope=col>&lt;int&gt;</th><th scope=col>&lt;int&gt;</th><th scope=col>&lt;int&gt;</th><th scope=col>&lt;int&gt;</th></tr>\n",
       "</thead>\n",
       "<tbody>\n",
       "\t<tr><td>-1</td><td>-1</td><td>-1</td><td>-1</td><td>-1</td><td>-1</td><td>167</td></tr>\n",
       "\t<tr><td> 1</td><td>-1</td><td>-1</td><td>-1</td><td> 1</td><td> 1</td><td> 62</td></tr>\n",
       "\t<tr><td>-1</td><td> 1</td><td>-1</td><td>-1</td><td> 1</td><td>-1</td><td> 41</td></tr>\n",
       "\t<tr><td> 1</td><td> 1</td><td>-1</td><td>-1</td><td>-1</td><td> 1</td><td> 73</td></tr>\n",
       "\t<tr><td>-1</td><td>-1</td><td> 1</td><td>-1</td><td> 1</td><td> 1</td><td> 47</td></tr>\n",
       "\t<tr><td> 1</td><td>-1</td><td> 1</td><td>-1</td><td>-1</td><td>-1</td><td>219</td></tr>\n",
       "\t<tr><td>-1</td><td> 1</td><td> 1</td><td>-1</td><td>-1</td><td> 1</td><td>121</td></tr>\n",
       "\t<tr><td> 1</td><td> 1</td><td> 1</td><td>-1</td><td> 1</td><td>-1</td><td>255</td></tr>\n",
       "\t<tr><td>-1</td><td>-1</td><td>-1</td><td> 1</td><td>-1</td><td> 1</td><td> 32</td></tr>\n",
       "\t<tr><td> 1</td><td>-1</td><td>-1</td><td> 1</td><td> 1</td><td>-1</td><td> 78</td></tr>\n",
       "\t<tr><td>-1</td><td> 1</td><td>-1</td><td> 1</td><td> 1</td><td> 1</td><td> 43</td></tr>\n",
       "\t<tr><td> 1</td><td> 1</td><td>-1</td><td> 1</td><td>-1</td><td>-1</td><td>186</td></tr>\n",
       "\t<tr><td>-1</td><td>-1</td><td> 1</td><td> 1</td><td> 1</td><td>-1</td><td>110</td></tr>\n",
       "\t<tr><td> 1</td><td>-1</td><td> 1</td><td> 1</td><td>-1</td><td> 1</td><td> 65</td></tr>\n",
       "\t<tr><td>-1</td><td> 1</td><td> 1</td><td> 1</td><td>-1</td><td>-1</td><td>155</td></tr>\n",
       "\t<tr><td> 1</td><td> 1</td><td> 1</td><td> 1</td><td> 1</td><td> 1</td><td> 93</td></tr>\n",
       "\t<tr><td>-1</td><td>-1</td><td>-1</td><td>-1</td><td>-1</td><td>-1</td><td>128</td></tr>\n",
       "\t<tr><td> 1</td><td>-1</td><td>-1</td><td>-1</td><td> 1</td><td> 1</td><td> 66</td></tr>\n",
       "\t<tr><td>-1</td><td> 1</td><td>-1</td><td>-1</td><td> 1</td><td>-1</td><td> 43</td></tr>\n",
       "\t<tr><td> 1</td><td> 1</td><td>-1</td><td>-1</td><td>-1</td><td> 1</td><td> 81</td></tr>\n",
       "\t<tr><td>-1</td><td>-1</td><td> 1</td><td>-1</td><td> 1</td><td> 1</td><td> 47</td></tr>\n",
       "\t<tr><td> 1</td><td>-1</td><td> 1</td><td>-1</td><td>-1</td><td>-1</td><td>258</td></tr>\n",
       "\t<tr><td>-1</td><td> 1</td><td> 1</td><td>-1</td><td>-1</td><td> 1</td><td> 90</td></tr>\n",
       "\t<tr><td> 1</td><td> 1</td><td> 1</td><td>-1</td><td> 1</td><td>-1</td><td>250</td></tr>\n",
       "\t<tr><td>-1</td><td>-1</td><td>-1</td><td> 1</td><td>-1</td><td> 1</td><td> 23</td></tr>\n",
       "\t<tr><td> 1</td><td>-1</td><td>-1</td><td> 1</td><td> 1</td><td>-1</td><td>158</td></tr>\n",
       "\t<tr><td>-1</td><td> 1</td><td>-1</td><td> 1</td><td> 1</td><td> 1</td><td> 27</td></tr>\n",
       "\t<tr><td> 1</td><td> 1</td><td>-1</td><td> 1</td><td>-1</td><td>-1</td><td>137</td></tr>\n",
       "\t<tr><td>-1</td><td>-1</td><td> 1</td><td> 1</td><td> 1</td><td>-1</td><td> 86</td></tr>\n",
       "\t<tr><td> 1</td><td>-1</td><td> 1</td><td> 1</td><td>-1</td><td> 1</td><td>109</td></tr>\n",
       "\t<tr><td>⋮</td><td>⋮</td><td>⋮</td><td>⋮</td><td>⋮</td><td>⋮</td><td>⋮</td></tr>\n",
       "\t<tr><td>-1</td><td> 1</td><td>-1</td><td>-1</td><td> 1</td><td>-1</td><td> 42</td></tr>\n",
       "\t<tr><td> 1</td><td> 1</td><td>-1</td><td>-1</td><td>-1</td><td> 1</td><td> 39</td></tr>\n",
       "\t<tr><td>-1</td><td>-1</td><td> 1</td><td>-1</td><td> 1</td><td> 1</td><td> 40</td></tr>\n",
       "\t<tr><td> 1</td><td>-1</td><td> 1</td><td>-1</td><td>-1</td><td>-1</td><td>147</td></tr>\n",
       "\t<tr><td>-1</td><td> 1</td><td> 1</td><td>-1</td><td>-1</td><td> 1</td><td> 92</td></tr>\n",
       "\t<tr><td> 1</td><td> 1</td><td> 1</td><td>-1</td><td> 1</td><td>-1</td><td>226</td></tr>\n",
       "\t<tr><td>-1</td><td>-1</td><td>-1</td><td> 1</td><td>-1</td><td> 1</td><td> 77</td></tr>\n",
       "\t<tr><td> 1</td><td>-1</td><td>-1</td><td> 1</td><td> 1</td><td>-1</td><td> 60</td></tr>\n",
       "\t<tr><td>-1</td><td> 1</td><td>-1</td><td> 1</td><td> 1</td><td> 1</td><td> 28</td></tr>\n",
       "\t<tr><td> 1</td><td> 1</td><td>-1</td><td> 1</td><td>-1</td><td>-1</td><td>158</td></tr>\n",
       "\t<tr><td>-1</td><td>-1</td><td> 1</td><td> 1</td><td> 1</td><td>-1</td><td>101</td></tr>\n",
       "\t<tr><td> 1</td><td>-1</td><td> 1</td><td> 1</td><td>-1</td><td> 1</td><td>126</td></tr>\n",
       "\t<tr><td>-1</td><td> 1</td><td> 1</td><td> 1</td><td>-1</td><td>-1</td><td>145</td></tr>\n",
       "\t<tr><td> 1</td><td> 1</td><td> 1</td><td> 1</td><td> 1</td><td> 1</td><td>110</td></tr>\n",
       "\t<tr><td>-1</td><td>-1</td><td>-1</td><td>-1</td><td>-1</td><td>-1</td><td>185</td></tr>\n",
       "\t<tr><td> 1</td><td>-1</td><td>-1</td><td>-1</td><td> 1</td><td> 1</td><td> 20</td></tr>\n",
       "\t<tr><td>-1</td><td> 1</td><td>-1</td><td>-1</td><td> 1</td><td>-1</td><td> 50</td></tr>\n",
       "\t<tr><td> 1</td><td> 1</td><td>-1</td><td>-1</td><td>-1</td><td> 1</td><td> 30</td></tr>\n",
       "\t<tr><td>-1</td><td>-1</td><td> 1</td><td>-1</td><td> 1</td><td> 1</td><td> 89</td></tr>\n",
       "\t<tr><td> 1</td><td>-1</td><td> 1</td><td>-1</td><td>-1</td><td>-1</td><td>296</td></tr>\n",
       "\t<tr><td>-1</td><td> 1</td><td> 1</td><td>-1</td><td>-1</td><td> 1</td><td> 86</td></tr>\n",
       "\t<tr><td> 1</td><td> 1</td><td> 1</td><td>-1</td><td> 1</td><td>-1</td><td>169</td></tr>\n",
       "\t<tr><td>-1</td><td>-1</td><td>-1</td><td> 1</td><td>-1</td><td> 1</td><td> 69</td></tr>\n",
       "\t<tr><td> 1</td><td>-1</td><td>-1</td><td> 1</td><td> 1</td><td>-1</td><td> 45</td></tr>\n",
       "\t<tr><td>-1</td><td> 1</td><td>-1</td><td> 1</td><td> 1</td><td> 1</td><td> 28</td></tr>\n",
       "\t<tr><td> 1</td><td> 1</td><td>-1</td><td> 1</td><td>-1</td><td>-1</td><td>159</td></tr>\n",
       "\t<tr><td>-1</td><td>-1</td><td> 1</td><td> 1</td><td> 1</td><td>-1</td><td>158</td></tr>\n",
       "\t<tr><td> 1</td><td>-1</td><td> 1</td><td> 1</td><td>-1</td><td> 1</td><td> 71</td></tr>\n",
       "\t<tr><td>-1</td><td> 1</td><td> 1</td><td> 1</td><td>-1</td><td>-1</td><td>145</td></tr>\n",
       "\t<tr><td> 1</td><td> 1</td><td> 1</td><td> 1</td><td> 1</td><td> 1</td><td>133</td></tr>\n",
       "</tbody>\n",
       "</table>\n"
      ],
      "text/latex": [
       "A data.frame: 64 × 7\n",
       "\\begin{tabular}{lllllll}\n",
       " Ltemp & Ltime & Lpress & Ctemp & Ctime & Catmos & Camber\\\\\n",
       " <int> & <int> & <int> & <int> & <int> & <int> & <int>\\\\\n",
       "\\hline\n",
       "\t -1 & -1 & -1 & -1 & -1 & -1 & 167\\\\\n",
       "\t  1 & -1 & -1 & -1 &  1 &  1 &  62\\\\\n",
       "\t -1 &  1 & -1 & -1 &  1 & -1 &  41\\\\\n",
       "\t  1 &  1 & -1 & -1 & -1 &  1 &  73\\\\\n",
       "\t -1 & -1 &  1 & -1 &  1 &  1 &  47\\\\\n",
       "\t  1 & -1 &  1 & -1 & -1 & -1 & 219\\\\\n",
       "\t -1 &  1 &  1 & -1 & -1 &  1 & 121\\\\\n",
       "\t  1 &  1 &  1 & -1 &  1 & -1 & 255\\\\\n",
       "\t -1 & -1 & -1 &  1 & -1 &  1 &  32\\\\\n",
       "\t  1 & -1 & -1 &  1 &  1 & -1 &  78\\\\\n",
       "\t -1 &  1 & -1 &  1 &  1 &  1 &  43\\\\\n",
       "\t  1 &  1 & -1 &  1 & -1 & -1 & 186\\\\\n",
       "\t -1 & -1 &  1 &  1 &  1 & -1 & 110\\\\\n",
       "\t  1 & -1 &  1 &  1 & -1 &  1 &  65\\\\\n",
       "\t -1 &  1 &  1 &  1 & -1 & -1 & 155\\\\\n",
       "\t  1 &  1 &  1 &  1 &  1 &  1 &  93\\\\\n",
       "\t -1 & -1 & -1 & -1 & -1 & -1 & 128\\\\\n",
       "\t  1 & -1 & -1 & -1 &  1 &  1 &  66\\\\\n",
       "\t -1 &  1 & -1 & -1 &  1 & -1 &  43\\\\\n",
       "\t  1 &  1 & -1 & -1 & -1 &  1 &  81\\\\\n",
       "\t -1 & -1 &  1 & -1 &  1 &  1 &  47\\\\\n",
       "\t  1 & -1 &  1 & -1 & -1 & -1 & 258\\\\\n",
       "\t -1 &  1 &  1 & -1 & -1 &  1 &  90\\\\\n",
       "\t  1 &  1 &  1 & -1 &  1 & -1 & 250\\\\\n",
       "\t -1 & -1 & -1 &  1 & -1 &  1 &  23\\\\\n",
       "\t  1 & -1 & -1 &  1 &  1 & -1 & 158\\\\\n",
       "\t -1 &  1 & -1 &  1 &  1 &  1 &  27\\\\\n",
       "\t  1 &  1 & -1 &  1 & -1 & -1 & 137\\\\\n",
       "\t -1 & -1 &  1 &  1 &  1 & -1 &  86\\\\\n",
       "\t  1 & -1 &  1 &  1 & -1 &  1 & 109\\\\\n",
       "\t ⋮ & ⋮ & ⋮ & ⋮ & ⋮ & ⋮ & ⋮\\\\\n",
       "\t -1 &  1 & -1 & -1 &  1 & -1 &  42\\\\\n",
       "\t  1 &  1 & -1 & -1 & -1 &  1 &  39\\\\\n",
       "\t -1 & -1 &  1 & -1 &  1 &  1 &  40\\\\\n",
       "\t  1 & -1 &  1 & -1 & -1 & -1 & 147\\\\\n",
       "\t -1 &  1 &  1 & -1 & -1 &  1 &  92\\\\\n",
       "\t  1 &  1 &  1 & -1 &  1 & -1 & 226\\\\\n",
       "\t -1 & -1 & -1 &  1 & -1 &  1 &  77\\\\\n",
       "\t  1 & -1 & -1 &  1 &  1 & -1 &  60\\\\\n",
       "\t -1 &  1 & -1 &  1 &  1 &  1 &  28\\\\\n",
       "\t  1 &  1 & -1 &  1 & -1 & -1 & 158\\\\\n",
       "\t -1 & -1 &  1 &  1 &  1 & -1 & 101\\\\\n",
       "\t  1 & -1 &  1 &  1 & -1 &  1 & 126\\\\\n",
       "\t -1 &  1 &  1 &  1 & -1 & -1 & 145\\\\\n",
       "\t  1 &  1 &  1 &  1 &  1 &  1 & 110\\\\\n",
       "\t -1 & -1 & -1 & -1 & -1 & -1 & 185\\\\\n",
       "\t  1 & -1 & -1 & -1 &  1 &  1 &  20\\\\\n",
       "\t -1 &  1 & -1 & -1 &  1 & -1 &  50\\\\\n",
       "\t  1 &  1 & -1 & -1 & -1 &  1 &  30\\\\\n",
       "\t -1 & -1 &  1 & -1 &  1 &  1 &  89\\\\\n",
       "\t  1 & -1 &  1 & -1 & -1 & -1 & 296\\\\\n",
       "\t -1 &  1 &  1 & -1 & -1 &  1 &  86\\\\\n",
       "\t  1 &  1 &  1 & -1 &  1 & -1 & 169\\\\\n",
       "\t -1 & -1 & -1 &  1 & -1 &  1 &  69\\\\\n",
       "\t  1 & -1 & -1 &  1 &  1 & -1 &  45\\\\\n",
       "\t -1 &  1 & -1 &  1 &  1 &  1 &  28\\\\\n",
       "\t  1 &  1 & -1 &  1 & -1 & -1 & 159\\\\\n",
       "\t -1 & -1 &  1 &  1 &  1 & -1 & 158\\\\\n",
       "\t  1 & -1 &  1 &  1 & -1 &  1 &  71\\\\\n",
       "\t -1 &  1 &  1 &  1 & -1 & -1 & 145\\\\\n",
       "\t  1 &  1 &  1 &  1 &  1 &  1 & 133\\\\\n",
       "\\end{tabular}\n"
      ],
      "text/markdown": [
       "\n",
       "A data.frame: 64 × 7\n",
       "\n",
       "| Ltemp &lt;int&gt; | Ltime &lt;int&gt; | Lpress &lt;int&gt; | Ctemp &lt;int&gt; | Ctime &lt;int&gt; | Catmos &lt;int&gt; | Camber &lt;int&gt; |\n",
       "|---|---|---|---|---|---|---|\n",
       "| -1 | -1 | -1 | -1 | -1 | -1 | 167 |\n",
       "|  1 | -1 | -1 | -1 |  1 |  1 |  62 |\n",
       "| -1 |  1 | -1 | -1 |  1 | -1 |  41 |\n",
       "|  1 |  1 | -1 | -1 | -1 |  1 |  73 |\n",
       "| -1 | -1 |  1 | -1 |  1 |  1 |  47 |\n",
       "|  1 | -1 |  1 | -1 | -1 | -1 | 219 |\n",
       "| -1 |  1 |  1 | -1 | -1 |  1 | 121 |\n",
       "|  1 |  1 |  1 | -1 |  1 | -1 | 255 |\n",
       "| -1 | -1 | -1 |  1 | -1 |  1 |  32 |\n",
       "|  1 | -1 | -1 |  1 |  1 | -1 |  78 |\n",
       "| -1 |  1 | -1 |  1 |  1 |  1 |  43 |\n",
       "|  1 |  1 | -1 |  1 | -1 | -1 | 186 |\n",
       "| -1 | -1 |  1 |  1 |  1 | -1 | 110 |\n",
       "|  1 | -1 |  1 |  1 | -1 |  1 |  65 |\n",
       "| -1 |  1 |  1 |  1 | -1 | -1 | 155 |\n",
       "|  1 |  1 |  1 |  1 |  1 |  1 |  93 |\n",
       "| -1 | -1 | -1 | -1 | -1 | -1 | 128 |\n",
       "|  1 | -1 | -1 | -1 |  1 |  1 |  66 |\n",
       "| -1 |  1 | -1 | -1 |  1 | -1 |  43 |\n",
       "|  1 |  1 | -1 | -1 | -1 |  1 |  81 |\n",
       "| -1 | -1 |  1 | -1 |  1 |  1 |  47 |\n",
       "|  1 | -1 |  1 | -1 | -1 | -1 | 258 |\n",
       "| -1 |  1 |  1 | -1 | -1 |  1 |  90 |\n",
       "|  1 |  1 |  1 | -1 |  1 | -1 | 250 |\n",
       "| -1 | -1 | -1 |  1 | -1 |  1 |  23 |\n",
       "|  1 | -1 | -1 |  1 |  1 | -1 | 158 |\n",
       "| -1 |  1 | -1 |  1 |  1 |  1 |  27 |\n",
       "|  1 |  1 | -1 |  1 | -1 | -1 | 137 |\n",
       "| -1 | -1 |  1 |  1 |  1 | -1 |  86 |\n",
       "|  1 | -1 |  1 |  1 | -1 |  1 | 109 |\n",
       "| ⋮ | ⋮ | ⋮ | ⋮ | ⋮ | ⋮ | ⋮ |\n",
       "| -1 |  1 | -1 | -1 |  1 | -1 |  42 |\n",
       "|  1 |  1 | -1 | -1 | -1 |  1 |  39 |\n",
       "| -1 | -1 |  1 | -1 |  1 |  1 |  40 |\n",
       "|  1 | -1 |  1 | -1 | -1 | -1 | 147 |\n",
       "| -1 |  1 |  1 | -1 | -1 |  1 |  92 |\n",
       "|  1 |  1 |  1 | -1 |  1 | -1 | 226 |\n",
       "| -1 | -1 | -1 |  1 | -1 |  1 |  77 |\n",
       "|  1 | -1 | -1 |  1 |  1 | -1 |  60 |\n",
       "| -1 |  1 | -1 |  1 |  1 |  1 |  28 |\n",
       "|  1 |  1 | -1 |  1 | -1 | -1 | 158 |\n",
       "| -1 | -1 |  1 |  1 |  1 | -1 | 101 |\n",
       "|  1 | -1 |  1 |  1 | -1 |  1 | 126 |\n",
       "| -1 |  1 |  1 |  1 | -1 | -1 | 145 |\n",
       "|  1 |  1 |  1 |  1 |  1 |  1 | 110 |\n",
       "| -1 | -1 | -1 | -1 | -1 | -1 | 185 |\n",
       "|  1 | -1 | -1 | -1 |  1 |  1 |  20 |\n",
       "| -1 |  1 | -1 | -1 |  1 | -1 |  50 |\n",
       "|  1 |  1 | -1 | -1 | -1 |  1 |  30 |\n",
       "| -1 | -1 |  1 | -1 |  1 |  1 |  89 |\n",
       "|  1 | -1 |  1 | -1 | -1 | -1 | 296 |\n",
       "| -1 |  1 |  1 | -1 | -1 |  1 |  86 |\n",
       "|  1 |  1 |  1 | -1 |  1 | -1 | 169 |\n",
       "| -1 | -1 | -1 |  1 | -1 |  1 |  69 |\n",
       "|  1 | -1 | -1 |  1 |  1 | -1 |  45 |\n",
       "| -1 |  1 | -1 |  1 |  1 |  1 |  28 |\n",
       "|  1 |  1 | -1 |  1 | -1 | -1 | 159 |\n",
       "| -1 | -1 |  1 |  1 |  1 | -1 | 158 |\n",
       "|  1 | -1 |  1 |  1 | -1 |  1 |  71 |\n",
       "| -1 |  1 |  1 |  1 | -1 | -1 | 145 |\n",
       "|  1 |  1 |  1 |  1 |  1 |  1 | 133 |\n",
       "\n"
      ],
      "text/plain": [
       "   Ltemp Ltime Lpress Ctemp Ctime Catmos Camber\n",
       "1  -1    -1    -1     -1    -1    -1     167   \n",
       "2   1    -1    -1     -1     1     1      62   \n",
       "3  -1     1    -1     -1     1    -1      41   \n",
       "4   1     1    -1     -1    -1     1      73   \n",
       "5  -1    -1     1     -1     1     1      47   \n",
       "6   1    -1     1     -1    -1    -1     219   \n",
       "7  -1     1     1     -1    -1     1     121   \n",
       "8   1     1     1     -1     1    -1     255   \n",
       "9  -1    -1    -1      1    -1     1      32   \n",
       "10  1    -1    -1      1     1    -1      78   \n",
       "11 -1     1    -1      1     1     1      43   \n",
       "12  1     1    -1      1    -1    -1     186   \n",
       "13 -1    -1     1      1     1    -1     110   \n",
       "14  1    -1     1      1    -1     1      65   \n",
       "15 -1     1     1      1    -1    -1     155   \n",
       "16  1     1     1      1     1     1      93   \n",
       "17 -1    -1    -1     -1    -1    -1     128   \n",
       "18  1    -1    -1     -1     1     1      66   \n",
       "19 -1     1    -1     -1     1    -1      43   \n",
       "20  1     1    -1     -1    -1     1      81   \n",
       "21 -1    -1     1     -1     1     1      47   \n",
       "22  1    -1     1     -1    -1    -1     258   \n",
       "23 -1     1     1     -1    -1     1      90   \n",
       "24  1     1     1     -1     1    -1     250   \n",
       "25 -1    -1    -1      1    -1     1      23   \n",
       "26  1    -1    -1      1     1    -1     158   \n",
       "27 -1     1    -1      1     1     1      27   \n",
       "28  1     1    -1      1    -1    -1     137   \n",
       "29 -1    -1     1      1     1    -1      86   \n",
       "30  1    -1     1      1    -1     1     109   \n",
       "⋮  ⋮     ⋮     ⋮      ⋮     ⋮     ⋮      ⋮     \n",
       "35 -1     1    -1     -1     1    -1      42   \n",
       "36  1     1    -1     -1    -1     1      39   \n",
       "37 -1    -1     1     -1     1     1      40   \n",
       "38  1    -1     1     -1    -1    -1     147   \n",
       "39 -1     1     1     -1    -1     1      92   \n",
       "40  1     1     1     -1     1    -1     226   \n",
       "41 -1    -1    -1      1    -1     1      77   \n",
       "42  1    -1    -1      1     1    -1      60   \n",
       "43 -1     1    -1      1     1     1      28   \n",
       "44  1     1    -1      1    -1    -1     158   \n",
       "45 -1    -1     1      1     1    -1     101   \n",
       "46  1    -1     1      1    -1     1     126   \n",
       "47 -1     1     1      1    -1    -1     145   \n",
       "48  1     1     1      1     1     1     110   \n",
       "49 -1    -1    -1     -1    -1    -1     185   \n",
       "50  1    -1    -1     -1     1     1      20   \n",
       "51 -1     1    -1     -1     1    -1      50   \n",
       "52  1     1    -1     -1    -1     1      30   \n",
       "53 -1    -1     1     -1     1     1      89   \n",
       "54  1    -1     1     -1    -1    -1     296   \n",
       "55 -1     1     1     -1    -1     1      86   \n",
       "56  1     1     1     -1     1    -1     169   \n",
       "57 -1    -1    -1      1    -1     1      69   \n",
       "58  1    -1    -1      1     1    -1      45   \n",
       "59 -1     1    -1      1     1     1      28   \n",
       "60  1     1    -1      1    -1    -1     159   \n",
       "61 -1    -1     1      1     1    -1     158   \n",
       "62  1    -1     1      1    -1     1      71   \n",
       "63 -1     1     1      1    -1    -1     145   \n",
       "64  1     1     1      1     1     1     133   "
      ]
     },
     "metadata": {},
     "output_type": "display_data"
    },
    {
     "data": {
      "text/html": [
       "64"
      ],
      "text/latex": [
       "64"
      ],
      "text/markdown": [
       "64"
      ],
      "text/plain": [
       "[1] 64"
      ]
     },
     "metadata": {},
     "output_type": "display_data"
    }
   ],
   "source": [
    "silicium[,1:7]\n",
    "nrow(silicium)"
   ]
  },
  {
   "cell_type": "code",
   "execution_count": 32,
   "metadata": {},
   "outputs": [
    {
     "data": {
      "text/html": [
       "<table>\n",
       "<caption>A matrix: 6 × 6 of type dbl</caption>\n",
       "<thead>\n",
       "\t<tr><th></th><th scope=col>Ltemp</th><th scope=col>Ltime</th><th scope=col>Lpress</th><th scope=col>Ctemp</th><th scope=col>Ctime</th><th scope=col>Catmos</th></tr>\n",
       "</thead>\n",
       "<tbody>\n",
       "\t<tr><th scope=row>Ltemp</th><td>16</td><td> 0</td><td> 0</td><td> 0</td><td> 0</td><td> 0</td></tr>\n",
       "\t<tr><th scope=row>Ltime</th><td> 0</td><td>16</td><td> 0</td><td> 0</td><td> 0</td><td> 0</td></tr>\n",
       "\t<tr><th scope=row>Lpress</th><td> 0</td><td> 0</td><td>16</td><td> 0</td><td> 0</td><td> 0</td></tr>\n",
       "\t<tr><th scope=row>Ctemp</th><td> 0</td><td> 0</td><td> 0</td><td>16</td><td> 0</td><td> 0</td></tr>\n",
       "\t<tr><th scope=row>Ctime</th><td> 0</td><td> 0</td><td> 0</td><td> 0</td><td>16</td><td> 0</td></tr>\n",
       "\t<tr><th scope=row>Catmos</th><td> 0</td><td> 0</td><td> 0</td><td> 0</td><td> 0</td><td>16</td></tr>\n",
       "</tbody>\n",
       "</table>\n"
      ],
      "text/latex": [
       "A matrix: 6 × 6 of type dbl\n",
       "\\begin{tabular}{r|llllll}\n",
       "  & Ltemp & Ltime & Lpress & Ctemp & Ctime & Catmos\\\\\n",
       "\\hline\n",
       "\tLtemp & 16 &  0 &  0 &  0 &  0 &  0\\\\\n",
       "\tLtime &  0 & 16 &  0 &  0 &  0 &  0\\\\\n",
       "\tLpress &  0 &  0 & 16 &  0 &  0 &  0\\\\\n",
       "\tCtemp &  0 &  0 &  0 & 16 &  0 &  0\\\\\n",
       "\tCtime &  0 &  0 &  0 &  0 & 16 &  0\\\\\n",
       "\tCatmos &  0 &  0 &  0 &  0 &  0 & 16\\\\\n",
       "\\end{tabular}\n"
      ],
      "text/markdown": [
       "\n",
       "A matrix: 6 × 6 of type dbl\n",
       "\n",
       "| <!--/--> | Ltemp | Ltime | Lpress | Ctemp | Ctime | Catmos |\n",
       "|---|---|---|---|---|---|---|\n",
       "| Ltemp | 16 |  0 |  0 |  0 |  0 |  0 |\n",
       "| Ltime |  0 | 16 |  0 |  0 |  0 |  0 |\n",
       "| Lpress |  0 |  0 | 16 |  0 |  0 |  0 |\n",
       "| Ctemp |  0 |  0 |  0 | 16 |  0 |  0 |\n",
       "| Ctime |  0 |  0 |  0 |  0 | 16 |  0 |\n",
       "| Catmos |  0 |  0 |  0 |  0 |  0 | 16 |\n",
       "\n"
      ],
      "text/plain": [
       "       Ltemp Ltime Lpress Ctemp Ctime Catmos\n",
       "Ltemp  16     0     0      0     0     0    \n",
       "Ltime   0    16     0      0     0     0    \n",
       "Lpress  0     0    16      0     0     0    \n",
       "Ctemp   0     0     0     16     0     0    \n",
       "Ctime   0     0     0      0    16     0    \n",
       "Catmos  0     0     0      0     0    16    "
      ]
     },
     "metadata": {},
     "output_type": "display_data"
    }
   ],
   "source": [
    "X = data.matrix(silicium[1:16,1:6])\n",
    "t(X)%*%X"
   ]
  },
  {
   "cell_type": "code",
   "execution_count": null,
   "metadata": {},
   "outputs": [],
   "source": [
    "silicium$ABC = silicium$Ltemp * silicium$Ltime * silicium$Lpress\n",
    "silicium$ACD = silicium$Ltemp * silicium$Lpress * silicium$Ctemp\n",
    "identical(silicium$ABC, silicium$Ctime)\n",
    "identical(silicium$ACD, silicium$Catmos)"
   ]
  },
  {
   "cell_type": "markdown",
   "metadata": {},
   "source": [
    "- On remarque que Ctime = Ltemp * Ltime * Lpress et Catmos = Ltemp * Lpress * Ctemp donc il s'agit du plan fractionnaire *2^(6-2)* répété 4 fois. Il est de résolution IV.\n",
    "- t(X)\\*X est un multiple de la matrice Id donc les facteurs sont orthogonaux.\n",
    "- Ce plan permet d'estimer les effets principaux mais pas les intéractions doubles."
   ]
  },
  {
   "cell_type": "markdown",
   "metadata": {},
   "source": [
    "### Questions 2 et 3"
   ]
  },
  {
   "cell_type": "code",
   "execution_count": 43,
   "metadata": {},
   "outputs": [
    {
     "data": {
      "text/plain": [
       "\n",
       "Call:\n",
       "lm(formula = Camber ~ Ltemp + Ltime + Lpress + Ctemp + Ctime + \n",
       "    Catmos, data = silicium)\n",
       "\n",
       "Residuals:\n",
       "    Min      1Q  Median      3Q     Max \n",
       "-67.672 -22.703  -3.875  28.797  81.328 \n",
       "\n",
       "Coefficients:\n",
       "            Estimate Std. Error t value Pr(>|t|)    \n",
       "(Intercept)  107.016      4.793  22.328  < 2e-16 ***\n",
       "Ltemp         19.453      4.793   4.059 0.000152 ***\n",
       "Ltime          2.891      4.793   0.603 0.548823    \n",
       "Lpress        28.016      4.793   5.845 2.57e-07 ***\n",
       "Ctemp         -7.109      4.793  -1.483 0.143492    \n",
       "Ctime        -17.234      4.793  -3.596 0.000676 ***\n",
       "Catmos       -38.734      4.793  -8.082 5.03e-11 ***\n",
       "---\n",
       "Signif. codes:  0 ‘***’ 0.001 ‘**’ 0.01 ‘*’ 0.05 ‘.’ 0.1 ‘ ’ 1\n",
       "\n",
       "Residual standard error: 38.34 on 57 degrees of freedom\n",
       "Multiple R-squared:  0.6975,\tAdjusted R-squared:  0.6657 \n",
       "F-statistic: 21.91 on 6 and 57 DF,  p-value: 3.566e-13\n"
      ]
     },
     "metadata": {},
     "output_type": "display_data"
    }
   ],
   "source": [
    "lm1 = lm(Camber ~ Ltemp + Ltime + Lpress + Ctemp + Ctime + Catmos, data=silicium)\n",
    "summary(lm1)"
   ]
  },
  {
   "cell_type": "code",
   "execution_count": 49,
   "metadata": {},
   "outputs": [
    {
     "data": {
      "text/html": [
       "4.7925"
      ],
      "text/latex": [
       "4.7925"
      ],
      "text/markdown": [
       "4.7925"
      ],
      "text/plain": [
       "[1] 4.7925"
      ]
     },
     "metadata": {},
     "output_type": "display_data"
    }
   ],
   "source": [
    "sqrt(38.34**2/64)"
   ]
  },
  {
   "cell_type": "markdown",
   "metadata": {},
   "source": [
    "- La p-value globale est bien inférieure à .05 donc il y a au moins une variable significative.\n",
    "- Cependant, *adjusted R^2* = 0.67 donc le modèle à 6 variables ne permet d'expliquer que les 2 tiers de la variance totale, ce quiest un bon début, mais pas satisfaisant.\n",
    "- La valeur *Residual standard error* est égale à sqrt(SSE).\n",
    "- On observe aussi que les facteurs Ltime et Ctemp ont des *p-values* supérieures à .05. Ainsi, ces variables ne semblent pas explicatives dans le modèle ainsi défini."
   ]
  },
  {
   "cell_type": "markdown",
   "metadata": {},
   "source": [
    "### Question 4"
   ]
  },
  {
   "cell_type": "code",
   "execution_count": 50,
   "metadata": {},
   "outputs": [
    {
     "data": {
      "text/plain": [
       "\n",
       "Call:\n",
       "lm(formula = Camber ~ Ltemp + Lpress + Ctime + Catmos, data = silicium)\n",
       "\n",
       "Residuals:\n",
       "    Min      1Q  Median      3Q     Max \n",
       "-74.953 -26.547  -4.016  25.844  85.547 \n",
       "\n",
       "Coefficients:\n",
       "            Estimate Std. Error t value Pr(>|t|)    \n",
       "(Intercept)  107.016      4.816  22.222  < 2e-16 ***\n",
       "Ltemp         19.453      4.816   4.040 0.000157 ***\n",
       "Lpress        28.016      4.816   5.818 2.59e-07 ***\n",
       "Ctime        -17.234      4.816  -3.579 0.000698 ***\n",
       "Catmos       -38.734      4.816  -8.043 4.62e-11 ***\n",
       "---\n",
       "Signif. codes:  0 ‘***’ 0.001 ‘**’ 0.01 ‘*’ 0.05 ‘.’ 0.1 ‘ ’ 1\n",
       "\n",
       "Residual standard error: 38.53 on 59 degrees of freedom\n",
       "Multiple R-squared:  0.6839,\tAdjusted R-squared:  0.6625 \n",
       "F-statistic: 31.92 on 4 and 59 DF,  p-value: 3.711e-14\n"
      ]
     },
     "metadata": {},
     "output_type": "display_data"
    }
   ],
   "source": [
    "lm2 = lm(Camber ~ Ltemp + Lpress + Ctime + Catmos, data=silicium)\n",
    "summary(lm2)"
   ]
  },
  {
   "cell_type": "markdown",
   "metadata": {},
   "source": [
    "- On obtient les mêmes performances avec ce modèle, le R^2 n'a pratiquement pas diminué. On privilégiera ce dernier.\n",
    "- Les coefficients associés aux variables sélectionnées sont conservés."
   ]
  },
  {
   "cell_type": "markdown",
   "metadata": {},
   "source": [
    "### Question 5"
   ]
  },
  {
   "cell_type": "code",
   "execution_count": 60,
   "metadata": {},
   "outputs": [
    {
     "data": {
      "text/html": [
       "<table>\n",
       "<caption>A matrix: 1 × 3 of type dbl</caption>\n",
       "<thead>\n",
       "\t<tr><th></th><th scope=col>fit</th><th scope=col>lwr</th><th scope=col>upr</th></tr>\n",
       "</thead>\n",
       "<tbody>\n",
       "\t<tr><th scope=row>1</th><td>3.578125</td><td>-17.9689</td><td>25.12515</td></tr>\n",
       "</tbody>\n",
       "</table>\n"
      ],
      "text/latex": [
       "A matrix: 1 × 3 of type dbl\n",
       "\\begin{tabular}{r|lll}\n",
       "  & fit & lwr & upr\\\\\n",
       "\\hline\n",
       "\t1 & 3.578125 & -17.9689 & 25.12515\\\\\n",
       "\\end{tabular}\n"
      ],
      "text/markdown": [
       "\n",
       "A matrix: 1 × 3 of type dbl\n",
       "\n",
       "| <!--/--> | fit | lwr | upr |\n",
       "|---|---|---|---|\n",
       "| 1 | 3.578125 | -17.9689 | 25.12515 |\n",
       "\n"
      ],
      "text/plain": [
       "  fit      lwr      upr     \n",
       "1 3.578125 -17.9689 25.12515"
      ]
     },
     "metadata": {},
     "output_type": "display_data"
    }
   ],
   "source": [
    "newdata = data.frame(Ltemp=-1, Lpress=-1, Ctime=1, Catmos=1)\n",
    "predict(lm2, newdata=newdata, interval=c(\"confidence\"), level = 0.95)"
   ]
  },
  {
   "cell_type": "code",
   "execution_count": 58,
   "metadata": {},
   "outputs": [
    {
     "data": {
      "text/html": [
       "27.659"
      ],
      "text/latex": [
       "27.659"
      ],
      "text/markdown": [
       "27.659"
      ],
      "text/plain": [
       "[1] 27.659"
      ]
     },
     "metadata": {},
     "output_type": "display_data"
    }
   ],
   "source": [
    "107.016 - 19.453 - 28.016 -17.234 - 38.734 + 5 * 4.816"
   ]
  },
  {
   "cell_type": "markdown",
   "metadata": {},
   "source": [
    "- Limiter la courbure au maximum revient à minimiser la fonction estimée (fonction affine en les variables d'entrée). Les variables prennent leurs valeurs dans {-1, 1} donc on prendra Ltemp=Lpress=-1 (car leurs coefficients associés sont positifs) et Ctime=Catmos=1 (car leurs coefficients associés sont négatifs). Ltime et Ctemp ne sont pas significatives donc on cherchera à minimiser le coût d'énergie, ainsi on prendre Ltime=Ctemp=-1. En résumé, les meilleures conditions de fabrication sont:\n",
    "    - Température de laminage : 10 sec\n",
    "    - Durée du laminage : 55 deg\n",
    "    - Pression du laminage : 5 bar\n",
    "    - Température de cuisson : 1580 deg\n",
    "    - Temps de cuisson : 29 sec\n",
    "    - Température de rosée de cuisson : 26 deg\n",
    "- L'intervalle de confiance pour ces valeurs de paramètres est \\[-17.97, 25.13\\]\n",
    "- Une augmentation de la température de laminage de 5 degrés provoquera une augmentation de Ltemp de 2/3 (le calcul est (+1 - (-1))*(15-10)/(25-10)), donc une augmentation de la courbure de 2\\*19.453=38.906. "
   ]
  },
  {
   "cell_type": "markdown",
   "metadata": {},
   "source": [
    "### Question 6"
   ]
  },
  {
   "cell_type": "markdown",
   "metadata": {},
   "source": [
    "- tXX est inversible donc les variables sont indépendantes.\n",
    "- ...\n",
    "- ..."
   ]
  }
 ],
 "metadata": {
  "kernelspec": {
   "display_name": "R",
   "language": "R",
   "name": "ir"
  },
  "language_info": {
   "codemirror_mode": "r",
   "file_extension": ".r",
   "mimetype": "text/x-r-source",
   "name": "R",
   "pygments_lexer": "r",
   "version": "3.6.1"
  }
 },
 "nbformat": 4,
 "nbformat_minor": 2
}
